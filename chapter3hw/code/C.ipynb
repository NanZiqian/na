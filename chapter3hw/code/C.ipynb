{
 "cells": [
  {
   "cell_type": "markdown",
   "metadata": {},
   "source": [
    "# C\n",
    "\n",
    "$f(x) = \\frac{1}{1+x^2},x\\in [-5,5]\\\\\n",
    "g(t) = \\frac{1}{1+(t-6)^2},x\\in [1,11]\\\\\n",
    "N = 11$"
   ]
  },
  {
   "cell_type": "code",
   "execution_count": null,
   "metadata": {},
   "outputs": [],
   "source": [
    "import matplotlib.pyplot as plt\n",
    "import numpy as np\n",
    "\n",
    "def g(x):\n",
    "    return 1/(1+(x-6)**2)\n",
    "\n",
    "def dg(x):\n",
    "    return -2*(x-6)/((1+(x-6)**2)**2)"
   ]
  },
  {
   "cell_type": "code",
   "execution_count": null,
   "metadata": {},
   "outputs": [],
   "source": [
    "N = 11\n",
    "ti = np.linspace(1, 11, N)"
   ]
  }
 ],
 "metadata": {
  "language_info": {
   "name": "python"
  }
 },
 "nbformat": 4,
 "nbformat_minor": 2
}
