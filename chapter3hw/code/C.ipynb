{
 "cells": [
  {
   "cell_type": "markdown",
   "metadata": {},
   "source": [
    "# C\n",
    "\n",
    "$f(x) = \\frac{1}{1+x^2},x\\in [-5,5]\\\\\n",
    "g(t) = \\frac{1}{1+(t-6)^2},x\\in [1,11]\\\\\n",
    "N = 11$"
   ]
  },
  {
   "cell_type": "code",
   "execution_count": 2,
   "metadata": {},
   "outputs": [],
   "source": [
    "import matplotlib.pyplot as plt\n",
    "import numpy as np\n",
    "\n",
    "def g(x):\n",
    "    return 1/(1+(x-6)**2)\n",
    "\n",
    "def dg(x):\n",
    "    return -2*(x-6)/((1+(x-6)**2)**2)"
   ]
  },
  {
   "cell_type": "code",
   "execution_count": 5,
   "metadata": {},
   "outputs": [],
   "source": [
    "#generate points for S32spline\n",
    "N = 11\n",
    "ti = np.linspace(1, 11, N)\n",
    "txt = open(\"output/C_B32.txt\",'w')\n",
    "txt.write(str(N)+\"\\n\")\n",
    "#f(1)~f(11)\n",
    "for i in range(0,N):\n",
    "        txt.write(str(ti[i])+\" \"+str(g(ti[i]))+\"\\n\")\n",
    "txt.write(\"\\n\")\n",
    "#f'(1) and f'(11)\n",
    "txt.write(str(dg(ti[0]))+\" \"+str(dg(ti[N-1]))+\"\\n\")\n",
    "txt.close()\n",
    "\n",
    "#generate points for S21spline\n",
    "ti = np.linspace(1.5, 10.5, N-1)\n",
    "txt = open(\"output/C_B21.txt\",'w')\n",
    "txt.write(str(N)+\"\\n\")\n",
    "#f(1.5)~f(10.5)\n",
    "for i in range(N-1):\n",
    "    txt.write(str(g(ti[i]))+\" \")\n",
    "txt.write(\"\\n\")\n",
    "#f(1) and f(11)\n",
    "txt.write(str(g(1))+\" \"+str(g(11))+\"\\n\")\n",
    "txt.close()\n"
   ]
  },
  {
   "cell_type": "code",
   "execution_count": null,
   "metadata": {},
   "outputs": [],
   "source": []
  }
 ],
 "metadata": {
  "kernelspec": {
   "display_name": "base",
   "language": "python",
   "name": "python3"
  },
  "language_info": {
   "codemirror_mode": {
    "name": "ipython",
    "version": 3
   },
   "file_extension": ".py",
   "mimetype": "text/x-python",
   "name": "python",
   "nbconvert_exporter": "python",
   "pygments_lexer": "ipython3",
   "version": "3.11.4"
  }
 },
 "nbformat": 4,
 "nbformat_minor": 2
}
