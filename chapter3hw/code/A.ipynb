{
 "cells": [
  {
   "cell_type": "markdown",
   "metadata": {},
   "source": [
    "# A"
   ]
  },
  {
   "cell_type": "code",
   "execution_count": null,
   "metadata": {},
   "outputs": [],
   "source": [
    "import matplotlib.pyplot as plt\n",
    "import numpy as np"
   ]
  },
  {
   "cell_type": "code",
   "execution_count": 6,
   "metadata": {},
   "outputs": [],
   "source": [
    "#generate points for spline\n",
    "def f(x):\n",
    "    return 1/(1+25*x**2)\n",
    "\n",
    "def df(x):\n",
    "    return -50*x/(1+25*x**2)**2\n",
    "\n",
    "for ii in range(0,5):\n",
    "    N = 1+5*2**ii\n",
    "    txt = open(\"output/A_\"+str(N)+\".txt\",'w')\n",
    "    txt.write(str(N)+\"\\n\")\n",
    "    x = np.linspace(-1,1,N)\n",
    "    y = f(x)\n",
    "    for i in range(0,N):\n",
    "        txt.write(str(x[i])+\" \"+str(y[i])+\"\\n\")\n",
    "    txt.write(\"\\n\")\n",
    "    txt.write(str(df(x[0]))+\" \"+str(df(x[N-1]))+\"\\n\")\n",
    "    txt.close()"
   ]
  },
  {
   "cell_type": "code",
   "execution_count": null,
   "metadata": {},
   "outputs": [],
   "source": [
    "def eval_spline(x,points,coeffs):\n",
    "    N = len(points)\n",
    "    for i in range(0,N):\n",
    "        if x>=points[i] and x<=points[i+1]:\n",
    "            return coeffs[i,0]+coeffs[i,1]*(x-points[i])+coeffs[i,2]*(x-points[i])**2+coeffs[i,3]*(x-points[i])**3\n",
    "    return 0\n",
    "\n",
    "# get points and coefficients\n",
    "for ii in range(0,5):\n",
    "    N = 1+5*2**ii\n",
    "    txt = open(\"output/D1S32_coefficients_\"+str(N)+\".txt\",'r')\n",
    "    \n",
    "    x = np.linspace(-1,1,100)\n",
    "    y = f(100)"
   ]
  }
 ],
 "metadata": {
  "kernelspec": {
   "display_name": "base",
   "language": "python",
   "name": "python3"
  },
  "language_info": {
   "codemirror_mode": {
    "name": "ipython",
    "version": 3
   },
   "file_extension": ".py",
   "mimetype": "text/x-python",
   "name": "python",
   "nbconvert_exporter": "python",
   "pygments_lexer": "ipython3",
   "version": "3.11.4"
  }
 },
 "nbformat": 4,
 "nbformat_minor": 2
}
