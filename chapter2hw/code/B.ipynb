{
 "cells": [
  {
   "cell_type": "code",
   "execution_count": null,
   "id": "44b4431b",
   "metadata": {},
   "outputs": [],
   "source": [
    "# define estimate function\n",
    "# n+1 points interpolation\n",
    "# x -> p(x)\n",
    "def estimate(n,vector_x,parameters,x):\n",
    "    return x"
   ]
  },
  {
   "cell_type": "code",
   "execution_count": null,
   "id": "3091ba32",
   "metadata": {},
   "outputs": [],
   "source": [
    "n = 2\n",
    "vector_x = linspace(-5, 5, n+1)\n",
    "# input the parameters\n",
    "fin parameters\n",
    "\n",
    "# plot the polynomials and the exact function\n",
    "x = linspace(-1, 1, 100)\n",
    "f = 1/(1+x**2)\n",
    "p = estimate(n,vector_x,parameters,x)\n",
    "\n",
    "plot(x, f, 'b', x, p, 'r')"
   ]
  },
  {
   "cell_type": "code",
   "execution_count": null,
   "id": "006b7719",
   "metadata": {},
   "outputs": [],
   "source": [
    "n = 4\n",
    "# input the parameters\n",
    "fin parameters\n",
    "# define estimate function\n",
    "def estimate(x):\n",
    "    return x\n",
    "\n",
    "# plot the polynomials and the exact function\n",
    "x = linspace(-1, 1, 100)\n",
    "f = 1/(1+x**2)\n",
    "p = estimate(x)\n",
    "\n",
    "plot(x, f, 'b', x, p, 'r')"
   ]
  },
  {
   "cell_type": "code",
   "execution_count": null,
   "id": "653f0cd7",
   "metadata": {},
   "outputs": [],
   "source": [
    "n = 6\n",
    "# input the parameters\n",
    "fin parameters\n",
    "# define estimate function\n",
    "def estimate(x):\n",
    "    return x\n",
    "\n",
    "# plot the polynomials and the exact function\n",
    "x = linspace(-1, 1, 100)\n",
    "f = 1/(1+x**2)\n",
    "p = estimate(x)\n",
    "\n",
    "plot(x, f, 'b', x, p, 'r')"
   ]
  },
  {
   "cell_type": "code",
   "execution_count": null,
   "id": "1a99d15a",
   "metadata": {},
   "outputs": [],
   "source": [
    "n = 8\n",
    "# input the parameters\n",
    "fin parameters\n",
    "# define estimate function\n",
    "def estimate(x):\n",
    "    return x\n",
    "\n",
    "# plot the polynomials and the exact function\n",
    "x = linspace(-1, 1, 100)\n",
    "f = 1/(1+x**2)\n",
    "p = estimate(x)\n",
    "\n",
    "plot(x, f, 'b', x, p, 'r')"
   ]
  }
 ],
 "metadata": {
  "kernelspec": {
   "display_name": "Python 3 (ipykernel)",
   "language": "python",
   "name": "python3"
  },
  "language_info": {
   "codemirror_mode": {
    "name": "ipython",
    "version": 3
   },
   "file_extension": ".py",
   "mimetype": "text/x-python",
   "name": "python",
   "nbconvert_exporter": "python",
   "pygments_lexer": "ipython3",
   "version": "3.11.4"
  }
 },
 "nbformat": 4,
 "nbformat_minor": 5
}
