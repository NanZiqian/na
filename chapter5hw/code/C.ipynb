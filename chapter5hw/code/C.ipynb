{
 "cells": [
  {
   "cell_type": "markdown",
   "metadata": {},
   "source": [
    "# C\n",
    "## First\n",
    "$$r_0 = \\int_{0}^{1} \\frac{1}{1+x}dx=ln(X+1)|^1_0=ln2\\\\\n",
    "\\because \\int^1_0 \\sum^j_{i=1}(-1)^{i-1}x^{i-1}dx = \\int^1_0 \\frac{1}{1+x}dx-(-1)^jr_j\\\\\n",
    "\\therefore \\sum^j_{i=1}\\frac{1}{i} = ln2-(-1)^jr_j\\\\\n",
    "r_j = (-1)^jln2+\\sum^j_{i=1}(-1)^{i+j}\\frac{1}{i}\n",
    "$$\n",
    "\n",
    "we have\n",
    "$ H\\vec{\\alpha} = \\vec{r}=\\vec{\\beta}*ln2+\\vec{\\gamma}$\n",
    "\n",
    "it is known that $H_n^{-1}=[b_{ij}]$\n",
    "$$\n",
    "[bij]=[\\frac{(−1)^{i+j}(i+n−1)!(j+n−1)!}{((i−1)!)^2((j−1)!)^2(n−j)!(n−i)!(i+j−1)}]\n",
    "$$\n",
    "each element is rational number, thus\n",
    "$$\n",
    "\\vec{\\alpha} = H^{-1}*\\vec{\\beta}*ln2+H^{-1}*\\vec{\\gamma}\n",
    "$$\n",
    "has the required form.\n",
    "\n",
    "## Second\n"
   ]
  },
  {
   "cell_type": "code",
   "execution_count": 66,
   "metadata": {},
   "outputs": [],
   "source": [
    "import numpy as np\n",
    "from fractions import Fraction\n",
    "\n",
    "# construct a Hilbert matrix\n",
    "def Hilbert(n,fraction=0):#创建Hilbert矩阵\n",
    "    if fraction==1:\n",
    "        A=np.zeros((n,n),dtype=Fraction)\n",
    "        for i in range(n):\n",
    "            for j in range(n):\n",
    "                A[i][j]=Fraction(1,(i+j+1))\n",
    "    else:\n",
    "        A=np.zeros((n,n))\n",
    "        for i in range(n):\n",
    "            for j in range(n):\n",
    "                A[i][j]=1/(i+j+1)\n",
    "    return A\n",
    "\n",
    "# Gauss elimination\n",
    "def Gauss(A_in,b,fraction=0):\n",
    "    n = b.shape[0]\n",
    "    A = A_in.copy()\n",
    "    #消元\n",
    "    for k in range(n-1):    #k第一层循环，第（0~n-1）行\n",
    "        for i in range(k+1,n):    #i第二层循环，第（k+1,n）行\n",
    "            mik = A[i,k]/A[k,k]\n",
    "            for j in range(k+1,n):    \n",
    "                A[i,j] = A[i,j] - mik*A[k,j]\n",
    "            b[i] = b[i] - mik*b[k]\n",
    "    #回代\n",
    "    if fraction==1:\n",
    "        solution = np.zeros(n,dtype=Fraction)\n",
    "    else:\n",
    "        solution = np.zeros(n)\n",
    "    solution[n-1] = b[n-1]/A[n-1,n-1]    #改为n-1\n",
    "    for i in range(n-2,-1,-1):\n",
    "        for j in range(i+1,n):\n",
    "            solution[i] = solution[i] + A[i,j]*solution[j]\n",
    "        solution[i] = (b[i] - solution[i])/A[i,i]\n",
    "    return solution\n",
    "\n",
    "# beta = H^-1*{(-1)^j}_n, n is the size of H\n",
    "def beta(n):\n",
    "    b = np.zeros(n,dtype=Fraction)\n",
    "    for i in range(n):\n",
    "        b[i] = Fraction((-1)**i,1)\n",
    "    return b\n",
    "\n",
    "# gamma = H^-1*{\\sum_{i=1}^j (-1)^{i+j}1/i}_n\n",
    "def gamma(n):\n",
    "    g = np.zeros(n,dtype=Fraction)\n",
    "    for i in range(1,n):\n",
    "        for j in range(1,i+1):\n",
    "            g[i] += Fraction((-1)**(i+j),j)\n",
    "    return g\n"
   ]
  },
  {
   "cell_type": "markdown",
   "metadata": {},
   "source": [
    "## Third"
   ]
  },
  {
   "cell_type": "code",
   "execution_count": 67,
   "metadata": {},
   "outputs": [
    {
     "name": "stdout",
     "output_type": "stream",
     "text": [
      "n =  1\n",
      "alpha =  [ 0.93147181 -0.47664925]\n",
      "n =  2\n",
      "alpha =  [ 0.98603854 -0.80404967  0.32740042]\n",
      "n =  3\n",
      "alpha =  [ 0.9972785  -0.93892919  0.66459923 -0.22479921]\n",
      "n =  4\n",
      "alpha =  [ 0.99948314 -0.98302195  0.86301662 -0.53344848  0.15432464]\n",
      "n =  5\n",
      "alpha =  [ 0.99990351 -0.99563313  0.95129493 -0.76885732  0.41915959 -0.10593398]\n",
      "n =  6\n",
      "alpha =  [ 0.99998221 -0.99893826  0.98434622 -0.90106246  0.66704419 -0.32407242\n",
      "  0.07271281]\n"
     ]
    }
   ],
   "source": [
    "for n in range(1,7):\n",
    "    print(\"n = \",n)\n",
    "    # nth order polynomial needs n+1 order Hilbert matrix\n",
    "    H = Hilbert(n+1,1)\n",
    "    #print(\"H = \",H)\n",
    "    b = beta(n+1)\n",
    "    #print(\"b = \",b)\n",
    "    g = gamma(n+1)\n",
    "    #print(\"g = \",g)\n",
    "    x1 = Gauss(H,b,1).astype(float)\n",
    "    #print(\"x1 = \",x1)\n",
    "    x2 = Gauss(H,g,1).astype(float)\n",
    "    #print(\"x2 = \",x2)\n",
    "    alpha = x1*np.log(2)+x2\n",
    "    \n",
    "    print(\"alpha = \",alpha)"
   ]
  },
  {
   "cell_type": "markdown",
   "metadata": {},
   "source": [
    "## Fourth"
   ]
  },
  {
   "cell_type": "code",
   "execution_count": 69,
   "metadata": {},
   "outputs": [
    {
     "name": "stdout",
     "output_type": "stream",
     "text": [
      "n =  1\n",
      "ki =  19.281470067903967\n",
      "alpha =  [ 0.93147181 -0.47664925]\n",
      "n =  2\n",
      "ki =  524.0567775860627\n",
      "alpha =  [ 0.98603854 -0.80404967  0.32740042]\n",
      "n =  3\n",
      "ki =  15513.738738929103\n",
      "alpha =  [ 0.9972785  -0.93892919  0.66459923 -0.22479921]\n",
      "n =  4\n",
      "ki =  476607.25024100044\n",
      "alpha =  [ 0.99948314 -0.98302195  0.86301662 -0.53344848  0.15432464]\n",
      "n =  5\n",
      "ki =  14951058.641453395\n",
      "alpha =  [ 0.99990351 -0.99563313  0.95129493 -0.76885732  0.41915959 -0.10593398]\n",
      "n =  6\n",
      "ki =  475367356.63047224\n",
      "alpha =  [ 0.99998221 -0.99893826  0.98434621 -0.90106245  0.66704419 -0.32407243\n",
      "  0.07271282]\n"
     ]
    }
   ],
   "source": [
    "def get_r(n):\n",
    "    r = np.zeros(n)\n",
    "    for i in range(n):\n",
    "        r[i] += (-1)**i*np.log(2)\n",
    "        for j in range(1,i+1):\n",
    "            r[i] += (-1)**(i+j)/j\n",
    "    return r\n",
    "\n",
    "for n in range(1,7):\n",
    "    # nth order polynomial needs n+1 order Hilbert matrix\n",
    "    H = Hilbert(n+1)\n",
    "    r = get_r(n+1)\n",
    "    alpha = np.dot(np.linalg.inv(H),r)#alpha = np.linalg.solve(H,r)\n",
    "    ki = np.linalg.cond(H)\n",
    "    print(\"n = \",n)\n",
    "    print(\"ki = \",ki)\n",
    "    print(\"alpha = \",alpha)"
   ]
  },
  {
   "cell_type": "markdown",
   "metadata": {},
   "source": [
    "as seen from above, in Fourth directly calculation of $H^{-1}r$ instead of precise calculation of fractions is supposed to be bad, because H has crazy condition numbers.\n",
    "\n",
    "maybe Numpy has optimized Hilbert matrix in np.linalg.inv, the accuracy in Fourth is almost the same.\n",
    "\n",
    "## Finally"
   ]
  },
  {
   "cell_type": "code",
   "execution_count": null,
   "metadata": {},
   "outputs": [],
   "source": []
  }
 ],
 "metadata": {
  "kernelspec": {
   "display_name": "base",
   "language": "python",
   "name": "python3"
  },
  "language_info": {
   "codemirror_mode": {
    "name": "ipython",
    "version": 3
   },
   "file_extension": ".py",
   "mimetype": "text/x-python",
   "name": "python",
   "nbconvert_exporter": "python",
   "pygments_lexer": "ipython3",
   "version": "3.11.4"
  }
 },
 "nbformat": 4,
 "nbformat_minor": 2
}
